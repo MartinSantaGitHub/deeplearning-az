{
  "nbformat": 4,
  "nbformat_minor": 0,
  "metadata": {
    "colab": {
      "name": "ann.ipynb",
      "provenance": [],
      "collapsed_sections": [],
      "include_colab_link": true
    },
    "kernelspec": {
      "display_name": "Python 3",
      "language": "python",
      "name": "python3"
    },
    "language_info": {
      "codemirror_mode": {
        "name": "ipython",
        "version": 3
      },
      "file_extension": ".py",
      "mimetype": "text/x-python",
      "name": "python",
      "nbconvert_exporter": "python",
      "pygments_lexer": "ipython3",
      "version": "3.8.3"
    },
    "accelerator": "GPU"
  },
  "cells": [
    {
      "cell_type": "markdown",
      "metadata": {
        "id": "view-in-github",
        "colab_type": "text"
      },
      "source": [
        "<a href=\"https://colab.research.google.com/github/MartinSantaGitHub/deeplearning-az/blob/master/datasets/Part%201%20-%20Artificial%20Neural%20Networks%20(ANN)/ann.ipynb\" target=\"_parent\"><img src=\"https://colab.research.google.com/assets/colab-badge.svg\" alt=\"Open In Colab\"/></a>"
      ]
    },
    {
      "cell_type": "markdown",
      "metadata": {
        "id": "KdUFcDsdzRyw"
      },
      "source": [
        "# Clonamos el repositorio para obtener los dataSet"
      ]
    },
    {
      "cell_type": "code",
      "metadata": {
        "id": "mHReFf3_y9ms",
        "colab": {
          "base_uri": "https://localhost:8080/",
          "height": 153
        },
        "outputId": "16e47efa-2691-4fcc-992e-e0577a7d0098"
      },
      "source": [
        "!git clone https://github.com/joanby/deeplearning-az.git"
      ],
      "execution_count": null,
      "outputs": [
        {
          "output_type": "stream",
          "text": [
            "Cloning into 'deeplearning-az'...\n",
            "remote: Enumerating objects: 71, done.\u001b[K\n",
            "remote: Counting objects: 100% (71/71), done.\u001b[K\n",
            "remote: Compressing objects: 100% (51/51), done.\u001b[K\n",
            "remote: Total 10167 (delta 35), reused 44 (delta 20), pack-reused 10096\u001b[K\n",
            "Receiving objects: 100% (10167/10167), 236.96 MiB | 24.11 MiB/s, done.\n",
            "Resolving deltas: 100% (60/60), done.\n",
            "Checking out files: 100% (10110/10110), done.\n"
          ],
          "name": "stdout"
        }
      ]
    },
    {
      "cell_type": "markdown",
      "metadata": {
        "id": "vNKZXgtKzU2x"
      },
      "source": [
        "# Damos acceso a nuestro Drive"
      ]
    },
    {
      "cell_type": "code",
      "metadata": {
        "id": "5gu7KWnzzUQ0"
      },
      "source": [
        "from google.colab import drive\n",
        "drive.mount('/content/drive')"
      ],
      "execution_count": null,
      "outputs": []
    },
    {
      "cell_type": "markdown",
      "metadata": {
        "id": "1gUxIkHWzfHV"
      },
      "source": [
        "# Test it"
      ]
    },
    {
      "cell_type": "code",
      "metadata": {
        "id": "mIQt3jBMzYRE"
      },
      "source": [
        "!ls '/content/drive/My Drive' "
      ],
      "execution_count": null,
      "outputs": []
    },
    {
      "cell_type": "markdown",
      "metadata": {
        "id": "mHsK36uN0XB-"
      },
      "source": [
        "# Google colab tools"
      ]
    },
    {
      "cell_type": "code",
      "metadata": {
        "id": "kTzwfUPWzrm4"
      },
      "source": [
        "from google.colab import files # Para manejar los archivos y, por ejemplo, exportar a su navegador\n",
        "import glob # Para manejar los archivos y, por ejemplo, exportar a su navegador\n",
        "from google.colab import drive # Montar tu Google drive"
      ],
      "execution_count": null,
      "outputs": []
    },
    {
      "cell_type": "markdown",
      "metadata": {
        "id": "uab9OAbV8hYN"
      },
      "source": [
        "# Instalar dependendias"
      ]
    },
    {
      "cell_type": "code",
      "metadata": {
        "id": "qukjDgj98kE4",
        "colab": {
          "base_uri": "https://localhost:8080/",
          "height": 122
        },
        "outputId": "ee6f4ce5-2b77-433c-f2bc-29fead6c2ed4"
      },
      "source": [
        "!pip install sklearn"
      ],
      "execution_count": null,
      "outputs": [
        {
          "output_type": "stream",
          "text": [
            "Requirement already satisfied: sklearn in /usr/local/lib/python3.6/dist-packages (0.0)\n",
            "Requirement already satisfied: scikit-learn in /usr/local/lib/python3.6/dist-packages (from sklearn) (0.22.2.post1)\n",
            "Requirement already satisfied: joblib>=0.11 in /usr/local/lib/python3.6/dist-packages (from scikit-learn->sklearn) (0.16.0)\n",
            "Requirement already satisfied: scipy>=0.17.0 in /usr/local/lib/python3.6/dist-packages (from scikit-learn->sklearn) (1.4.1)\n",
            "Requirement already satisfied: numpy>=1.11.0 in /usr/local/lib/python3.6/dist-packages (from scikit-learn->sklearn) (1.18.5)\n"
          ],
          "name": "stdout"
        }
      ]
    },
    {
      "cell_type": "markdown",
      "metadata": {
        "id": "4_lCXxqObOEc"
      },
      "source": [
        "# Instalar Theano"
      ]
    },
    {
      "cell_type": "code",
      "metadata": {
        "id": "ZuKBi9yzbOEd",
        "colab": {
          "base_uri": "https://localhost:8080/",
          "height": 258
        },
        "outputId": "112c8e47-f2d3-4390-d8e4-2bbed8ff91bf"
      },
      "source": [
        "!pip install --upgrade --no-deps git+git://github.com/Theano/Theano.git"
      ],
      "execution_count": null,
      "outputs": [
        {
          "output_type": "stream",
          "text": [
            "Collecting git+git://github.com/Theano/Theano.git\n",
            "  Cloning git://github.com/Theano/Theano.git to /tmp/pip-req-build-7q89qzfc\n",
            "  Running command git clone -q git://github.com/Theano/Theano.git /tmp/pip-req-build-7q89qzfc\n",
            "Building wheels for collected packages: Theano\n",
            "  Building wheel for Theano (setup.py) ... \u001b[?25l\u001b[?25hdone\n",
            "  Created wheel for Theano: filename=Theano-1.0.5+1.geb6a4125c-cp36-none-any.whl size=2668281 sha256=4d4c9648f72d9a1cfd6b33dea50b7685d703ab52da5c3aa3fe6ecd7dcad06048\n",
            "  Stored in directory: /tmp/pip-ephem-wheel-cache-_6l9lz2i/wheels/ae/32/7c/62beb8371953eb20c271b3bac7d0e56e1a2020d46994346b52\n",
            "Successfully built Theano\n",
            "Installing collected packages: Theano\n",
            "  Found existing installation: Theano 1.0.5\n",
            "    Uninstalling Theano-1.0.5:\n",
            "      Successfully uninstalled Theano-1.0.5\n",
            "Successfully installed Theano-1.0.5+1.geb6a4125c\n"
          ],
          "name": "stdout"
        }
      ]
    },
    {
      "cell_type": "markdown",
      "metadata": {
        "id": "JQVWgYPgbOEg"
      },
      "source": [
        "# Instalar Tensorflow y Keras\n"
      ]
    },
    {
      "cell_type": "code",
      "metadata": {
        "id": "lQlELtH5bOEg",
        "colab": {
          "base_uri": "https://localhost:8080/",
          "height": 768
        },
        "outputId": "430a74ac-094d-4a8b-935c-7dd333751fe8"
      },
      "source": [
        "!pip install keras\n",
        "!pip install tensorflow"
      ],
      "execution_count": null,
      "outputs": [
        {
          "output_type": "stream",
          "text": [
            "Requirement already satisfied: keras in /usr/local/lib/python3.6/dist-packages (2.4.3)\n",
            "Requirement already satisfied: numpy>=1.9.1 in /usr/local/lib/python3.6/dist-packages (from keras) (1.18.5)\n",
            "Requirement already satisfied: pyyaml in /usr/local/lib/python3.6/dist-packages (from keras) (3.13)\n",
            "Requirement already satisfied: scipy>=0.14 in /usr/local/lib/python3.6/dist-packages (from keras) (1.4.1)\n",
            "Requirement already satisfied: h5py in /usr/local/lib/python3.6/dist-packages (from keras) (2.10.0)\n",
            "Requirement already satisfied: six in /usr/local/lib/python3.6/dist-packages (from h5py->keras) (1.15.0)\n",
            "Requirement already satisfied: tensorflow in /usr/local/lib/python3.6/dist-packages (2.3.0)\n",
            "Requirement already satisfied: astunparse==1.6.3 in /usr/local/lib/python3.6/dist-packages (from tensorflow) (1.6.3)\n",
            "Requirement already satisfied: tensorflow-estimator<2.4.0,>=2.3.0 in /usr/local/lib/python3.6/dist-packages (from tensorflow) (2.3.0)\n",
            "Requirement already satisfied: h5py<2.11.0,>=2.10.0 in /usr/local/lib/python3.6/dist-packages (from tensorflow) (2.10.0)\n",
            "Requirement already satisfied: grpcio>=1.8.6 in /usr/local/lib/python3.6/dist-packages (from tensorflow) (1.31.0)\n",
            "Requirement already satisfied: keras-preprocessing<1.2,>=1.1.1 in /usr/local/lib/python3.6/dist-packages (from tensorflow) (1.1.2)\n",
            "Requirement already satisfied: six>=1.12.0 in /usr/local/lib/python3.6/dist-packages (from tensorflow) (1.15.0)\n",
            "Requirement already satisfied: termcolor>=1.1.0 in /usr/local/lib/python3.6/dist-packages (from tensorflow) (1.1.0)\n",
            "Requirement already satisfied: numpy<1.19.0,>=1.16.0 in /usr/local/lib/python3.6/dist-packages (from tensorflow) (1.18.5)\n",
            "Requirement already satisfied: protobuf>=3.9.2 in /usr/local/lib/python3.6/dist-packages (from tensorflow) (3.12.4)\n",
            "Requirement already satisfied: absl-py>=0.7.0 in /usr/local/lib/python3.6/dist-packages (from tensorflow) (0.8.1)\n",
            "Requirement already satisfied: tensorboard<3,>=2.3.0 in /usr/local/lib/python3.6/dist-packages (from tensorflow) (2.3.0)\n",
            "Requirement already satisfied: wrapt>=1.11.1 in /usr/local/lib/python3.6/dist-packages (from tensorflow) (1.12.1)\n",
            "Requirement already satisfied: wheel>=0.26 in /usr/local/lib/python3.6/dist-packages (from tensorflow) (0.35.1)\n",
            "Requirement already satisfied: scipy==1.4.1 in /usr/local/lib/python3.6/dist-packages (from tensorflow) (1.4.1)\n",
            "Requirement already satisfied: google-pasta>=0.1.8 in /usr/local/lib/python3.6/dist-packages (from tensorflow) (0.2.0)\n",
            "Requirement already satisfied: opt-einsum>=2.3.2 in /usr/local/lib/python3.6/dist-packages (from tensorflow) (3.3.0)\n",
            "Requirement already satisfied: gast==0.3.3 in /usr/local/lib/python3.6/dist-packages (from tensorflow) (0.3.3)\n",
            "Requirement already satisfied: setuptools in /usr/local/lib/python3.6/dist-packages (from protobuf>=3.9.2->tensorflow) (49.6.0)\n",
            "Requirement already satisfied: google-auth<2,>=1.6.3 in /usr/local/lib/python3.6/dist-packages (from tensorboard<3,>=2.3.0->tensorflow) (1.17.2)\n",
            "Requirement already satisfied: google-auth-oauthlib<0.5,>=0.4.1 in /usr/local/lib/python3.6/dist-packages (from tensorboard<3,>=2.3.0->tensorflow) (0.4.1)\n",
            "Requirement already satisfied: requests<3,>=2.21.0 in /usr/local/lib/python3.6/dist-packages (from tensorboard<3,>=2.3.0->tensorflow) (2.23.0)\n",
            "Requirement already satisfied: tensorboard-plugin-wit>=1.6.0 in /usr/local/lib/python3.6/dist-packages (from tensorboard<3,>=2.3.0->tensorflow) (1.7.0)\n",
            "Requirement already satisfied: werkzeug>=0.11.15 in /usr/local/lib/python3.6/dist-packages (from tensorboard<3,>=2.3.0->tensorflow) (1.0.1)\n",
            "Requirement already satisfied: markdown>=2.6.8 in /usr/local/lib/python3.6/dist-packages (from tensorboard<3,>=2.3.0->tensorflow) (3.2.2)\n",
            "Requirement already satisfied: cachetools<5.0,>=2.0.0 in /usr/local/lib/python3.6/dist-packages (from google-auth<2,>=1.6.3->tensorboard<3,>=2.3.0->tensorflow) (4.1.1)\n",
            "Requirement already satisfied: pyasn1-modules>=0.2.1 in /usr/local/lib/python3.6/dist-packages (from google-auth<2,>=1.6.3->tensorboard<3,>=2.3.0->tensorflow) (0.2.8)\n",
            "Requirement already satisfied: rsa<5,>=3.1.4; python_version >= \"3\" in /usr/local/lib/python3.6/dist-packages (from google-auth<2,>=1.6.3->tensorboard<3,>=2.3.0->tensorflow) (4.6)\n",
            "Requirement already satisfied: requests-oauthlib>=0.7.0 in /usr/local/lib/python3.6/dist-packages (from google-auth-oauthlib<0.5,>=0.4.1->tensorboard<3,>=2.3.0->tensorflow) (1.3.0)\n",
            "Requirement already satisfied: urllib3!=1.25.0,!=1.25.1,<1.26,>=1.21.1 in /usr/local/lib/python3.6/dist-packages (from requests<3,>=2.21.0->tensorboard<3,>=2.3.0->tensorflow) (1.24.3)\n",
            "Requirement already satisfied: certifi>=2017.4.17 in /usr/local/lib/python3.6/dist-packages (from requests<3,>=2.21.0->tensorboard<3,>=2.3.0->tensorflow) (2020.6.20)\n",
            "Requirement already satisfied: idna<3,>=2.5 in /usr/local/lib/python3.6/dist-packages (from requests<3,>=2.21.0->tensorboard<3,>=2.3.0->tensorflow) (2.10)\n",
            "Requirement already satisfied: chardet<4,>=3.0.2 in /usr/local/lib/python3.6/dist-packages (from requests<3,>=2.21.0->tensorboard<3,>=2.3.0->tensorflow) (3.0.4)\n",
            "Requirement already satisfied: importlib-metadata; python_version < \"3.8\" in /usr/local/lib/python3.6/dist-packages (from markdown>=2.6.8->tensorboard<3,>=2.3.0->tensorflow) (1.7.0)\n",
            "Requirement already satisfied: pyasn1<0.5.0,>=0.4.6 in /usr/local/lib/python3.6/dist-packages (from pyasn1-modules>=0.2.1->google-auth<2,>=1.6.3->tensorboard<3,>=2.3.0->tensorflow) (0.4.8)\n",
            "Requirement already satisfied: oauthlib>=3.0.0 in /usr/local/lib/python3.6/dist-packages (from requests-oauthlib>=0.7.0->google-auth-oauthlib<0.5,>=0.4.1->tensorboard<3,>=2.3.0->tensorflow) (3.1.0)\n",
            "Requirement already satisfied: zipp>=0.5 in /usr/local/lib/python3.6/dist-packages (from importlib-metadata; python_version < \"3.8\"->markdown>=2.6.8->tensorboard<3,>=2.3.0->tensorflow) (3.1.0)\n"
          ],
          "name": "stdout"
        }
      ]
    },
    {
      "cell_type": "markdown",
      "metadata": {
        "id": "3yFpBwmNz70v"
      },
      "source": [
        "# Redes Neuronales Artificales"
      ]
    },
    {
      "cell_type": "markdown",
      "metadata": {
        "id": "v8OxSXXSz-OP"
      },
      "source": [
        "# Cómo importar las librerías\n"
      ]
    },
    {
      "cell_type": "code",
      "metadata": {
        "id": "edZX51YLzs59"
      },
      "source": [
        "import numpy as np\n",
        "import matplotlib.pyplot as plt\n",
        "import pandas as pd"
      ],
      "execution_count": 1,
      "outputs": []
    },
    {
      "cell_type": "markdown",
      "metadata": {
        "id": "8XfXlqtF0B58"
      },
      "source": [
        "# Importar el data set\n"
      ]
    },
    {
      "cell_type": "code",
      "metadata": {
        "id": "-nnozsHsz_-N"
      },
      "source": [
        "dataset = pd.read_csv('https://raw.githubusercontent.com/MartinSantaGitHub/deeplearning-az/master/datasets/Part%201%20-%20Artificial%20Neural%20Networks%20(ANN)/Churn_Modelling.csv')\n",
        "X = dataset.iloc[:, 3:13].values\n",
        "y = dataset.iloc[:, 13].values"
      ],
      "execution_count": 2,
      "outputs": []
    },
    {
      "cell_type": "markdown",
      "metadata": {
        "id": "xtzD5VD4bOEn"
      },
      "source": [
        "# Parte 1 - Pre procesado de datos"
      ]
    },
    {
      "cell_type": "markdown",
      "metadata": {
        "id": "SsVEdPzf4XmV"
      },
      "source": [
        "# Codificar datos categóricos"
      ]
    },
    {
      "cell_type": "code",
      "metadata": {
        "id": "v9CtwK834bjy"
      },
      "source": [
        "from sklearn.preprocessing import LabelEncoder, OneHotEncoder\n",
        "from sklearn.compose import ColumnTransformer\n",
        "\n",
        "labelencoder_X_1 = LabelEncoder()\n",
        "X[:, 1] = labelencoder_X_1.fit_transform(X[:, 1])\n",
        "labelencoder_X_2 = LabelEncoder()\n",
        "X[:, 2] = labelencoder_X_2.fit_transform(X[:, 2])\n",
        "onehotencoder = ColumnTransformer(\n",
        "    [('one_hot_encoder', OneHotEncoder(categories='auto'), [1])],   \n",
        "    remainder='passthrough'                        \n",
        ")\n",
        "X = onehotencoder.fit_transform(X)\n",
        "X = X[:, 1:]"
      ],
      "execution_count": 3,
      "outputs": []
    },
    {
      "cell_type": "markdown",
      "metadata": {
        "id": "5AH_uCEz68rb"
      },
      "source": [
        "# Dividir el data set en conjunto de entrenamiento y conjunto de testing"
      ]
    },
    {
      "cell_type": "code",
      "metadata": {
        "id": "oeuAy8LI69vi"
      },
      "source": [
        "from sklearn.model_selection import train_test_split\n",
        "X_train, X_test, y_train, y_test = train_test_split(X, y, test_size = 0.2, random_state = 0)"
      ],
      "execution_count": 4,
      "outputs": []
    },
    {
      "cell_type": "markdown",
      "metadata": {
        "id": "sfzLXHPwbOEt"
      },
      "source": [
        "# Escalado de variables"
      ]
    },
    {
      "cell_type": "code",
      "metadata": {
        "id": "8m2LCgz8bOEt"
      },
      "source": [
        "from sklearn.preprocessing import StandardScaler\n",
        "sc_X = StandardScaler()\n",
        "X_train = sc_X.fit_transform(X_train)\n",
        "X_test = sc_X.transform(X_test)"
      ],
      "execution_count": 5,
      "outputs": []
    },
    {
      "cell_type": "markdown",
      "metadata": {
        "id": "cgweTaJ67BOB"
      },
      "source": [
        "# Parte 2 - Construir la RNA"
      ]
    },
    {
      "cell_type": "markdown",
      "metadata": {
        "id": "tm4Hg995bOEw"
      },
      "source": [
        "# Importar Keras y librerías adicionales\n"
      ]
    },
    {
      "cell_type": "code",
      "metadata": {
        "id": "HLEt5ni_bOEw"
      },
      "source": [
        "import keras\n",
        "from keras.models import Sequential\n",
        "from keras.layers import Dense"
      ],
      "execution_count": 6,
      "outputs": []
    },
    {
      "cell_type": "markdown",
      "metadata": {
        "id": "ezfPlyegbOEy"
      },
      "source": [
        "# Inicializar la RNA"
      ]
    },
    {
      "cell_type": "code",
      "metadata": {
        "id": "zRmQjNVzbOEz"
      },
      "source": [
        "classifier = Sequential()"
      ],
      "execution_count": 7,
      "outputs": []
    },
    {
      "cell_type": "markdown",
      "metadata": {
        "id": "ML7H-iqsbOE1"
      },
      "source": [
        "# Añadir las capas de entrada y primera capa oculta\n"
      ]
    },
    {
      "cell_type": "code",
      "metadata": {
        "id": "amkkZxnebOE1"
      },
      "source": [
        "classifier.add(Dense(units = 6, kernel_initializer = \"uniform\",  \n",
        "                     activation = \"relu\", input_dim = 11))"
      ],
      "execution_count": 8,
      "outputs": []
    },
    {
      "cell_type": "markdown",
      "metadata": {
        "id": "xKoC5UOwbOE3"
      },
      "source": [
        "# Añadir la segunda capa oculta"
      ]
    },
    {
      "cell_type": "code",
      "metadata": {
        "id": "ZTDhh_JibOE3"
      },
      "source": [
        "classifier.add(Dense(units = 6, kernel_initializer = \"uniform\",  activation = \"relu\"))"
      ],
      "execution_count": 9,
      "outputs": []
    },
    {
      "cell_type": "markdown",
      "metadata": {
        "id": "wvUfptEtbOE5"
      },
      "source": [
        "# Añadir la capa de salida"
      ]
    },
    {
      "cell_type": "code",
      "metadata": {
        "id": "6C2x9RUGbOE5"
      },
      "source": [
        "classifier.add(Dense(units = 1, kernel_initializer = \"uniform\",  activation = \"sigmoid\"))"
      ],
      "execution_count": 10,
      "outputs": []
    },
    {
      "cell_type": "markdown",
      "metadata": {
        "id": "_Je4JFqsbOE7"
      },
      "source": [
        "# Compilar la RNA"
      ]
    },
    {
      "cell_type": "code",
      "metadata": {
        "id": "f89xXBswbOE7"
      },
      "source": [
        "classifier.compile(optimizer = \"adam\", loss = \"binary_crossentropy\", metrics = [\"accuracy\"])"
      ],
      "execution_count": 11,
      "outputs": []
    },
    {
      "cell_type": "markdown",
      "metadata": {
        "id": "Dr34zpQrbOE9"
      },
      "source": [
        "# Ajustamos la RNA al Conjunto de Entrenamiento"
      ]
    },
    {
      "cell_type": "code",
      "metadata": {
        "id": "bwNUtZp7bOE9",
        "colab": {
          "base_uri": "https://localhost:8080/"
        },
        "outputId": "f0a8eada-8dcb-4340-a819-5a742df1fe94"
      },
      "source": [
        "classifier.fit(X_train, y_train,  batch_size = 10, epochs = 100)"
      ],
      "execution_count": 12,
      "outputs": [
        {
          "output_type": "stream",
          "text": [
            "Epoch 1/100\n",
            "800/800 [==============================] - 4s 2ms/step - loss: 0.5623 - accuracy: 0.7959\n",
            "Epoch 2/100\n",
            "800/800 [==============================] - 1s 2ms/step - loss: 0.4253 - accuracy: 0.7940\n",
            "Epoch 3/100\n",
            "800/800 [==============================] - 1s 2ms/step - loss: 0.4308 - accuracy: 0.7903\n",
            "Epoch 4/100\n",
            "800/800 [==============================] - 1s 2ms/step - loss: 0.4181 - accuracy: 0.8071\n",
            "Epoch 5/100\n",
            "800/800 [==============================] - 1s 2ms/step - loss: 0.4115 - accuracy: 0.8304\n",
            "Epoch 6/100\n",
            "800/800 [==============================] - 1s 2ms/step - loss: 0.4101 - accuracy: 0.8271\n",
            "Epoch 7/100\n",
            "800/800 [==============================] - 1s 2ms/step - loss: 0.4195 - accuracy: 0.8235\n",
            "Epoch 8/100\n",
            "800/800 [==============================] - 1s 2ms/step - loss: 0.4061 - accuracy: 0.8331\n",
            "Epoch 9/100\n",
            "800/800 [==============================] - 1s 2ms/step - loss: 0.4192 - accuracy: 0.8287\n",
            "Epoch 10/100\n",
            "800/800 [==============================] - 1s 2ms/step - loss: 0.4099 - accuracy: 0.8311\n",
            "Epoch 11/100\n",
            "800/800 [==============================] - 1s 2ms/step - loss: 0.4120 - accuracy: 0.8321\n",
            "Epoch 12/100\n",
            "800/800 [==============================] - 1s 2ms/step - loss: 0.4002 - accuracy: 0.8426\n",
            "Epoch 13/100\n",
            "800/800 [==============================] - 1s 2ms/step - loss: 0.3940 - accuracy: 0.8376\n",
            "Epoch 14/100\n",
            "800/800 [==============================] - 1s 2ms/step - loss: 0.4105 - accuracy: 0.8271\n",
            "Epoch 15/100\n",
            "800/800 [==============================] - 1s 2ms/step - loss: 0.4057 - accuracy: 0.8361\n",
            "Epoch 16/100\n",
            "800/800 [==============================] - 1s 2ms/step - loss: 0.4153 - accuracy: 0.8296\n",
            "Epoch 17/100\n",
            "800/800 [==============================] - 1s 2ms/step - loss: 0.4147 - accuracy: 0.8276\n",
            "Epoch 18/100\n",
            "800/800 [==============================] - 1s 2ms/step - loss: 0.4129 - accuracy: 0.8297\n",
            "Epoch 19/100\n",
            "800/800 [==============================] - 1s 2ms/step - loss: 0.4117 - accuracy: 0.8267\n",
            "Epoch 20/100\n",
            "800/800 [==============================] - 1s 2ms/step - loss: 0.4046 - accuracy: 0.8341\n",
            "Epoch 21/100\n",
            "800/800 [==============================] - 1s 2ms/step - loss: 0.4069 - accuracy: 0.8327\n",
            "Epoch 22/100\n",
            "800/800 [==============================] - 1s 2ms/step - loss: 0.3975 - accuracy: 0.8378\n",
            "Epoch 23/100\n",
            "800/800 [==============================] - 1s 2ms/step - loss: 0.4073 - accuracy: 0.8318\n",
            "Epoch 24/100\n",
            "800/800 [==============================] - 1s 2ms/step - loss: 0.4033 - accuracy: 0.8357\n",
            "Epoch 25/100\n",
            "800/800 [==============================] - 1s 2ms/step - loss: 0.4059 - accuracy: 0.8344\n",
            "Epoch 26/100\n",
            "800/800 [==============================] - 1s 2ms/step - loss: 0.3982 - accuracy: 0.8374\n",
            "Epoch 27/100\n",
            "800/800 [==============================] - 1s 2ms/step - loss: 0.3896 - accuracy: 0.8385\n",
            "Epoch 28/100\n",
            "800/800 [==============================] - 1s 2ms/step - loss: 0.4004 - accuracy: 0.8311\n",
            "Epoch 29/100\n",
            "800/800 [==============================] - 1s 2ms/step - loss: 0.4031 - accuracy: 0.8328\n",
            "Epoch 30/100\n",
            "800/800 [==============================] - 1s 2ms/step - loss: 0.4064 - accuracy: 0.8326\n",
            "Epoch 31/100\n",
            "800/800 [==============================] - 1s 2ms/step - loss: 0.3947 - accuracy: 0.8366\n",
            "Epoch 32/100\n",
            "800/800 [==============================] - 1s 2ms/step - loss: 0.3892 - accuracy: 0.8393\n",
            "Epoch 33/100\n",
            "800/800 [==============================] - 1s 2ms/step - loss: 0.3861 - accuracy: 0.8402\n",
            "Epoch 34/100\n",
            "800/800 [==============================] - 1s 2ms/step - loss: 0.3871 - accuracy: 0.8373\n",
            "Epoch 35/100\n",
            "800/800 [==============================] - 1s 2ms/step - loss: 0.4022 - accuracy: 0.8339\n",
            "Epoch 36/100\n",
            "800/800 [==============================] - 1s 2ms/step - loss: 0.3978 - accuracy: 0.8359\n",
            "Epoch 37/100\n",
            "800/800 [==============================] - 1s 2ms/step - loss: 0.4004 - accuracy: 0.8316\n",
            "Epoch 38/100\n",
            "800/800 [==============================] - 1s 2ms/step - loss: 0.3896 - accuracy: 0.8378\n",
            "Epoch 39/100\n",
            "800/800 [==============================] - 1s 2ms/step - loss: 0.3937 - accuracy: 0.8324\n",
            "Epoch 40/100\n",
            "800/800 [==============================] - 1s 2ms/step - loss: 0.3929 - accuracy: 0.8354\n",
            "Epoch 41/100\n",
            "800/800 [==============================] - 1s 2ms/step - loss: 0.3995 - accuracy: 0.8307\n",
            "Epoch 42/100\n",
            "800/800 [==============================] - 1s 2ms/step - loss: 0.3946 - accuracy: 0.8356\n",
            "Epoch 43/100\n",
            "800/800 [==============================] - 1s 2ms/step - loss: 0.3847 - accuracy: 0.8433\n",
            "Epoch 44/100\n",
            "800/800 [==============================] - 1s 2ms/step - loss: 0.3961 - accuracy: 0.8338\n",
            "Epoch 45/100\n",
            "800/800 [==============================] - 1s 2ms/step - loss: 0.3938 - accuracy: 0.8340\n",
            "Epoch 46/100\n",
            "800/800 [==============================] - 1s 2ms/step - loss: 0.3962 - accuracy: 0.8302\n",
            "Epoch 47/100\n",
            "800/800 [==============================] - 1s 2ms/step - loss: 0.4008 - accuracy: 0.8323\n",
            "Epoch 48/100\n",
            "800/800 [==============================] - 1s 2ms/step - loss: 0.4009 - accuracy: 0.8322\n",
            "Epoch 49/100\n",
            "800/800 [==============================] - 1s 2ms/step - loss: 0.3913 - accuracy: 0.8361\n",
            "Epoch 50/100\n",
            "800/800 [==============================] - 1s 2ms/step - loss: 0.3916 - accuracy: 0.8391\n",
            "Epoch 51/100\n",
            "800/800 [==============================] - 1s 2ms/step - loss: 0.4022 - accuracy: 0.8349\n",
            "Epoch 52/100\n",
            "800/800 [==============================] - 1s 2ms/step - loss: 0.4035 - accuracy: 0.8285\n",
            "Epoch 53/100\n",
            "800/800 [==============================] - 1s 2ms/step - loss: 0.3915 - accuracy: 0.8362\n",
            "Epoch 54/100\n",
            "800/800 [==============================] - 1s 2ms/step - loss: 0.3904 - accuracy: 0.8370\n",
            "Epoch 55/100\n",
            "800/800 [==============================] - 1s 2ms/step - loss: 0.3837 - accuracy: 0.8432\n",
            "Epoch 56/100\n",
            "800/800 [==============================] - 1s 2ms/step - loss: 0.4082 - accuracy: 0.8294\n",
            "Epoch 57/100\n",
            "800/800 [==============================] - 1s 2ms/step - loss: 0.3871 - accuracy: 0.8375\n",
            "Epoch 58/100\n",
            "800/800 [==============================] - 1s 2ms/step - loss: 0.3924 - accuracy: 0.8340\n",
            "Epoch 59/100\n",
            "800/800 [==============================] - 1s 2ms/step - loss: 0.3891 - accuracy: 0.8390\n",
            "Epoch 60/100\n",
            "800/800 [==============================] - 1s 2ms/step - loss: 0.3963 - accuracy: 0.8369\n",
            "Epoch 61/100\n",
            "800/800 [==============================] - 1s 2ms/step - loss: 0.3867 - accuracy: 0.8363\n",
            "Epoch 62/100\n",
            "800/800 [==============================] - 1s 2ms/step - loss: 0.3941 - accuracy: 0.8340\n",
            "Epoch 63/100\n",
            "800/800 [==============================] - 1s 2ms/step - loss: 0.3928 - accuracy: 0.8337\n",
            "Epoch 64/100\n",
            "800/800 [==============================] - 1s 2ms/step - loss: 0.3987 - accuracy: 0.8353\n",
            "Epoch 65/100\n",
            "800/800 [==============================] - 1s 2ms/step - loss: 0.3949 - accuracy: 0.8367\n",
            "Epoch 66/100\n",
            "800/800 [==============================] - 1s 2ms/step - loss: 0.3857 - accuracy: 0.8389\n",
            "Epoch 67/100\n",
            "800/800 [==============================] - 1s 2ms/step - loss: 0.3937 - accuracy: 0.8358\n",
            "Epoch 68/100\n",
            "800/800 [==============================] - 1s 2ms/step - loss: 0.4038 - accuracy: 0.8296\n",
            "Epoch 69/100\n",
            "800/800 [==============================] - 1s 2ms/step - loss: 0.3886 - accuracy: 0.8397\n",
            "Epoch 70/100\n",
            "800/800 [==============================] - 1s 2ms/step - loss: 0.3901 - accuracy: 0.8373\n",
            "Epoch 71/100\n",
            "800/800 [==============================] - 1s 2ms/step - loss: 0.3906 - accuracy: 0.8390\n",
            "Epoch 72/100\n",
            "800/800 [==============================] - 1s 2ms/step - loss: 0.3987 - accuracy: 0.8351\n",
            "Epoch 73/100\n",
            "800/800 [==============================] - 1s 2ms/step - loss: 0.4020 - accuracy: 0.8305\n",
            "Epoch 74/100\n",
            "800/800 [==============================] - 1s 2ms/step - loss: 0.3993 - accuracy: 0.8293\n",
            "Epoch 75/100\n",
            "800/800 [==============================] - 1s 2ms/step - loss: 0.3906 - accuracy: 0.8372\n",
            "Epoch 76/100\n",
            "800/800 [==============================] - 1s 2ms/step - loss: 0.3916 - accuracy: 0.8368\n",
            "Epoch 77/100\n",
            "800/800 [==============================] - 1s 2ms/step - loss: 0.3984 - accuracy: 0.8340\n",
            "Epoch 78/100\n",
            "800/800 [==============================] - 1s 2ms/step - loss: 0.3998 - accuracy: 0.8308\n",
            "Epoch 79/100\n",
            "800/800 [==============================] - 1s 2ms/step - loss: 0.3937 - accuracy: 0.8303\n",
            "Epoch 80/100\n",
            "800/800 [==============================] - 1s 2ms/step - loss: 0.3914 - accuracy: 0.8365\n",
            "Epoch 81/100\n",
            "800/800 [==============================] - 1s 2ms/step - loss: 0.3966 - accuracy: 0.8340\n",
            "Epoch 82/100\n",
            "800/800 [==============================] - 1s 2ms/step - loss: 0.3894 - accuracy: 0.8368\n",
            "Epoch 83/100\n",
            "800/800 [==============================] - 1s 2ms/step - loss: 0.3994 - accuracy: 0.8275\n",
            "Epoch 84/100\n",
            "800/800 [==============================] - 1s 2ms/step - loss: 0.3970 - accuracy: 0.8377\n",
            "Epoch 85/100\n",
            "800/800 [==============================] - 1s 2ms/step - loss: 0.3953 - accuracy: 0.8311\n",
            "Epoch 86/100\n",
            "800/800 [==============================] - 1s 2ms/step - loss: 0.3832 - accuracy: 0.8397\n",
            "Epoch 87/100\n",
            "800/800 [==============================] - 1s 2ms/step - loss: 0.3916 - accuracy: 0.8318\n",
            "Epoch 88/100\n",
            "800/800 [==============================] - 1s 2ms/step - loss: 0.4020 - accuracy: 0.8322\n",
            "Epoch 89/100\n",
            "800/800 [==============================] - 1s 2ms/step - loss: 0.3962 - accuracy: 0.8333\n",
            "Epoch 90/100\n",
            "800/800 [==============================] - 1s 2ms/step - loss: 0.3931 - accuracy: 0.8334\n",
            "Epoch 91/100\n",
            "800/800 [==============================] - 1s 2ms/step - loss: 0.4044 - accuracy: 0.8298\n",
            "Epoch 92/100\n",
            "800/800 [==============================] - 1s 2ms/step - loss: 0.3928 - accuracy: 0.8369\n",
            "Epoch 93/100\n",
            "800/800 [==============================] - 1s 2ms/step - loss: 0.4039 - accuracy: 0.8284\n",
            "Epoch 94/100\n",
            "800/800 [==============================] - 1s 2ms/step - loss: 0.3963 - accuracy: 0.8367\n",
            "Epoch 95/100\n",
            "800/800 [==============================] - 1s 2ms/step - loss: 0.3944 - accuracy: 0.8343\n",
            "Epoch 96/100\n",
            "800/800 [==============================] - 1s 2ms/step - loss: 0.3942 - accuracy: 0.8346\n",
            "Epoch 97/100\n",
            "800/800 [==============================] - 1s 2ms/step - loss: 0.3872 - accuracy: 0.8384\n",
            "Epoch 98/100\n",
            "800/800 [==============================] - 1s 2ms/step - loss: 0.4050 - accuracy: 0.8274\n",
            "Epoch 99/100\n",
            "800/800 [==============================] - 1s 2ms/step - loss: 0.3858 - accuracy: 0.8409\n",
            "Epoch 100/100\n",
            "800/800 [==============================] - 1s 2ms/step - loss: 0.3894 - accuracy: 0.8394\n"
          ],
          "name": "stdout"
        },
        {
          "output_type": "execute_result",
          "data": {
            "text/plain": [
              "<tensorflow.python.keras.callbacks.History at 0x7f86d03f6490>"
            ]
          },
          "metadata": {
            "tags": []
          },
          "execution_count": 12
        }
      ]
    },
    {
      "cell_type": "markdown",
      "metadata": {
        "id": "jsUJ7kBnbOE_"
      },
      "source": [
        "# Parte 3 - Evaluar el modelo y calcular predicciones finales"
      ]
    },
    {
      "cell_type": "markdown",
      "metadata": {
        "id": "7ZWV9kiBbOFA"
      },
      "source": [
        "# Predicción de los resultados con el Conjunto de Testing"
      ]
    },
    {
      "cell_type": "code",
      "metadata": {
        "id": "XVzX_pIhbOFA"
      },
      "source": [
        "y_pred  = classifier.predict(X_test)\n",
        "y_pred = (y_pred>0.5)"
      ],
      "execution_count": 13,
      "outputs": []
    },
    {
      "cell_type": "markdown",
      "metadata": {
        "id": "W0R6AD0bbOFD"
      },
      "source": [
        "# Elaborar una matriz de confusión"
      ]
    },
    {
      "cell_type": "code",
      "metadata": {
        "id": "cv-193GvbOFD"
      },
      "source": [
        "from sklearn.metrics import confusion_matrix\n",
        "cm = confusion_matrix(y_test, y_pred)"
      ],
      "execution_count": 14,
      "outputs": []
    },
    {
      "cell_type": "markdown",
      "metadata": {
        "id": "3qBAu2KobrIh"
      },
      "source": [
        "## Parte 4 - Evaluar, mejorar y Ajustar la RNA\n"
      ]
    },
    {
      "cell_type": "markdown",
      "metadata": {
        "id": "E3by0rPFbuM3"
      },
      "source": [
        "### Evaluar la **RNA**\n"
      ]
    },
    {
      "cell_type": "code",
      "metadata": {
        "id": "Xn44nPWXbsbS"
      },
      "source": [
        "from keras.wrappers.scikit_learn import KerasClassifier\n",
        "from sklearn.model_selection import cross_val_score"
      ],
      "execution_count": 15,
      "outputs": []
    },
    {
      "cell_type": "code",
      "metadata": {
        "id": "VEv9LR5MbwJ_"
      },
      "source": [
        "def build_classifier():\n",
        "  classifier = Sequential()\n",
        "  classifier.add(Dense(units = 6, kernel_initializer = \"uniform\", activation = \"relu\", input_dim = 11))\n",
        "  classifier.add(Dense(units = 6, kernel_initializer = \"uniform\", activation = \"relu\"))\n",
        "  classifier.add(Dense(units = 1, kernel_initializer = \"uniform\", activation = \"sigmoid\"))\n",
        "  classifier.compile(optimizer = \"adam\", loss = \"binary_crossentropy\", metrics = [\"accuracy\"])\n",
        "  return classifier"
      ],
      "execution_count": 16,
      "outputs": []
    },
    {
      "cell_type": "code",
      "metadata": {
        "id": "84ER1wwKbx-s",
        "colab": {
          "base_uri": "https://localhost:8080/"
        },
        "outputId": "7bb7d362-9643-4123-973f-3e5c42a2f788"
      },
      "source": [
        "classifier = KerasClassifier(build_fn = build_classifier, batch_size = 10, nb_epoch = 100)\n",
        "accuracies = cross_val_score(estimator=classifier, X = X_train, y = y_train, cv = 10, n_jobs=-1, verbose = 1)"
      ],
      "execution_count": 17,
      "outputs": [
        {
          "output_type": "stream",
          "text": [
            "[Parallel(n_jobs=-1)]: Using backend LokyBackend with 2 concurrent workers.\n",
            "[Parallel(n_jobs=-1)]: Done  10 out of  10 | elapsed:   18.0s finished\n"
          ],
          "name": "stderr"
        }
      ]
    },
    {
      "cell_type": "code",
      "metadata": {
        "id": "kH5SWOLjbz1J"
      },
      "source": [
        "mean = accuracies.mean()\n",
        "variance = accuracies.std()"
      ],
      "execution_count": 18,
      "outputs": []
    },
    {
      "cell_type": "code",
      "metadata": {
        "id": "3-cgksGM9zIx",
        "outputId": "28008093-0601-4929-a868-a2765570dfac",
        "colab": {
          "base_uri": "https://localhost:8080/"
        }
      },
      "source": [
        "print(mean)\n",
        "print(variance)"
      ],
      "execution_count": 19,
      "outputs": [
        {
          "output_type": "stream",
          "text": [
            "0.7965000092983245\n",
            "0.010880025551993258\n"
          ],
          "name": "stdout"
        }
      ]
    },
    {
      "cell_type": "markdown",
      "metadata": {
        "id": "Mv-Hs66Tb3Mv"
      },
      "source": [
        "### Mejorar la RNA"
      ]
    },
    {
      "cell_type": "markdown",
      "metadata": {
        "id": "d-TdOlIlb22x"
      },
      "source": [
        "#### Regularización de Dropout para evitar el *overfitting*\n"
      ]
    },
    {
      "cell_type": "markdown",
      "metadata": {
        "id": "k0xNpbSSb7_D"
      },
      "source": [
        "### Ajustar la *RNA*\n"
      ]
    },
    {
      "cell_type": "code",
      "metadata": {
        "id": "4XOkEVJ_eE93"
      },
      "source": [
        "from sklearn.model_selection import GridSearchCV"
      ],
      "execution_count": 20,
      "outputs": []
    },
    {
      "cell_type": "code",
      "metadata": {
        "id": "lURNzjkSb1Ce"
      },
      "source": [
        "def build_classifier(optimizer):\n",
        "  classifier = Sequential()\n",
        "  classifier.add(Dense(units = 6, kernel_initializer = \"uniform\",  activation = \"relu\", input_dim = 11))\n",
        "  classifier.add(Dense(units = 6, kernel_initializer = \"uniform\",  activation = \"relu\"))\n",
        "  classifier.add(Dense(units = 1, kernel_initializer = \"uniform\",  activation = \"sigmoid\"))\n",
        "  classifier.compile(optimizer = optimizer, loss = \"binary_crossentropy\", metrics = [\"accuracy\"])\n",
        "  return classifier"
      ],
      "execution_count": 30,
      "outputs": []
    },
    {
      "cell_type": "code",
      "metadata": {
        "id": "1mRpi1Kcb96V"
      },
      "source": [
        "classifier = KerasClassifier(build_fn = build_classifier)"
      ],
      "execution_count": 31,
      "outputs": []
    },
    {
      "cell_type": "code",
      "metadata": {
        "id": "KkRJLSzAb_6R"
      },
      "source": [
        "parameters = {\n",
        "    'batch_size' : [25,32],\n",
        "    'nb_epoch' : [100, 500], \n",
        "    'optimizer' : ['adam', 'rmsprop']\n",
        "}"
      ],
      "execution_count": 28,
      "outputs": []
    },
    {
      "cell_type": "code",
      "metadata": {
        "id": "_Ejn37PBcB-7",
        "colab": {
          "base_uri": "https://localhost:8080/"
        },
        "outputId": "58a7def9-db60-4e59-cc9a-9527ceb475cd"
      },
      "source": [
        "grid_search = GridSearchCV(estimator = classifier, \n",
        "                           param_grid = parameters, \n",
        "                           scoring = 'accuracy', \n",
        "                           cv = 10)\n",
        "grid_search = grid_search.fit(X_train, y_train)\n",
        "\n",
        "best_parameters = grid_search.best_params_\n",
        "best_accuracy = grid_search.best_score_"
      ],
      "execution_count": 32,
      "outputs": [
        {
          "output_type": "stream",
          "text": [
            "288/288 [==============================] - 1s 2ms/step - loss: 0.6115 - accuracy: 0.7950\n"
          ],
          "name": "stdout"
        },
        {
          "output_type": "stream",
          "text": [
            "/usr/local/lib/python3.7/dist-packages/tensorflow/python/keras/engine/sequential.py:450: UserWarning: `model.predict_classes()` is deprecated and will be removed after 2021-01-01. Please use instead:* `np.argmax(model.predict(x), axis=-1)`,   if your model does multi-class classification   (e.g. if it uses a `softmax` last-layer activation).* `(model.predict(x) > 0.5).astype(\"int32\")`,   if your model does binary classification   (e.g. if it uses a `sigmoid` last-layer activation).\n",
            "  warnings.warn('`model.predict_classes()` is deprecated and '\n"
          ],
          "name": "stderr"
        },
        {
          "output_type": "stream",
          "text": [
            "288/288 [==============================] - 1s 2ms/step - loss: 0.6109 - accuracy: 0.7830\n",
            "288/288 [==============================] - 1s 2ms/step - loss: 0.6134 - accuracy: 0.7845\n",
            "288/288 [==============================] - 1s 2ms/step - loss: 0.6154 - accuracy: 0.8000\n",
            "288/288 [==============================] - 1s 2ms/step - loss: 0.6108 - accuracy: 0.7899\n",
            "288/288 [==============================] - 1s 2ms/step - loss: 0.6119 - accuracy: 0.7851\n",
            "288/288 [==============================] - 1s 2ms/step - loss: 0.6070 - accuracy: 0.7941\n",
            "288/288 [==============================] - 1s 2ms/step - loss: 0.6139 - accuracy: 0.7916\n",
            "288/288 [==============================] - 1s 2ms/step - loss: 0.6141 - accuracy: 0.8045\n",
            "288/288 [==============================] - 1s 2ms/step - loss: 0.6133 - accuracy: 0.7882\n",
            "288/288 [==============================] - 1s 2ms/step - loss: 0.6137 - accuracy: 0.8022\n",
            "288/288 [==============================] - 1s 2ms/step - loss: 0.6136 - accuracy: 0.7992\n",
            "288/288 [==============================] - 1s 2ms/step - loss: 0.6217 - accuracy: 0.7889\n",
            "288/288 [==============================] - 1s 2ms/step - loss: 0.6096 - accuracy: 0.7881\n",
            "288/288 [==============================] - 1s 2ms/step - loss: 0.6128 - accuracy: 0.7849\n",
            "288/288 [==============================] - 1s 2ms/step - loss: 0.6172 - accuracy: 0.7953\n",
            "288/288 [==============================] - 1s 2ms/step - loss: 0.6152 - accuracy: 0.7981\n",
            "288/288 [==============================] - 1s 2ms/step - loss: 0.6120 - accuracy: 0.7860\n",
            "288/288 [==============================] - 1s 2ms/step - loss: 0.6129 - accuracy: 0.8013\n",
            "288/288 [==============================] - 1s 2ms/step - loss: 0.6206 - accuracy: 0.7958\n",
            "288/288 [==============================] - 1s 2ms/step - loss: 0.6174 - accuracy: 0.7986\n",
            "288/288 [==============================] - 1s 2ms/step - loss: 0.6174 - accuracy: 0.7854\n",
            "288/288 [==============================] - 1s 2ms/step - loss: 0.6134 - accuracy: 0.7891\n",
            "288/288 [==============================] - 1s 2ms/step - loss: 0.6109 - accuracy: 0.7872\n",
            "288/288 [==============================] - 1s 2ms/step - loss: 0.6136 - accuracy: 0.7853\n",
            "288/288 [==============================] - 1s 2ms/step - loss: 0.6136 - accuracy: 0.7977\n",
            "288/288 [==============================] - 1s 2ms/step - loss: 0.6106 - accuracy: 0.7992\n",
            "288/288 [==============================] - 1s 2ms/step - loss: 0.6102 - accuracy: 0.7950\n",
            "288/288 [==============================] - 1s 2ms/step - loss: 0.6153 - accuracy: 0.7919\n",
            "288/288 [==============================] - 1s 2ms/step - loss: 0.6138 - accuracy: 0.7860\n",
            "288/288 [==============================] - 1s 2ms/step - loss: 0.6163 - accuracy: 0.7923\n",
            "288/288 [==============================] - 1s 2ms/step - loss: 0.6133 - accuracy: 0.7927\n",
            "288/288 [==============================] - 1s 2ms/step - loss: 0.6232 - accuracy: 0.7924\n",
            "288/288 [==============================] - 1s 2ms/step - loss: 0.6099 - accuracy: 0.8056\n",
            "288/288 [==============================] - 1s 2ms/step - loss: 0.6154 - accuracy: 0.7877\n",
            "288/288 [==============================] - 1s 2ms/step - loss: 0.6117 - accuracy: 0.7882\n",
            "288/288 [==============================] - 1s 2ms/step - loss: 0.6170 - accuracy: 0.7958\n",
            "288/288 [==============================] - 1s 2ms/step - loss: 0.6206 - accuracy: 0.7980\n",
            "288/288 [==============================] - 1s 2ms/step - loss: 0.6157 - accuracy: 0.7878\n",
            "288/288 [==============================] - 1s 2ms/step - loss: 0.6137 - accuracy: 0.7979\n",
            "225/225 [==============================] - 1s 2ms/step - loss: 0.6263 - accuracy: 0.8012\n",
            "225/225 [==============================] - 1s 2ms/step - loss: 0.6339 - accuracy: 0.7809\n",
            "225/225 [==============================] - 1s 2ms/step - loss: 0.6312 - accuracy: 0.8064\n",
            "225/225 [==============================] - 1s 2ms/step - loss: 0.6295 - accuracy: 0.7884\n",
            "225/225 [==============================] - 1s 2ms/step - loss: 0.6306 - accuracy: 0.7880\n",
            "225/225 [==============================] - 1s 2ms/step - loss: 0.6343 - accuracy: 0.7853\n",
            "225/225 [==============================] - 1s 2ms/step - loss: 0.6335 - accuracy: 0.7881\n",
            "225/225 [==============================] - 1s 2ms/step - loss: 0.6321 - accuracy: 0.7863\n",
            "225/225 [==============================] - 1s 2ms/step - loss: 0.6328 - accuracy: 0.7876\n",
            "225/225 [==============================] - 1s 2ms/step - loss: 0.6313 - accuracy: 0.7857\n",
            "225/225 [==============================] - 1s 2ms/step - loss: 0.6368 - accuracy: 0.7919\n",
            "225/225 [==============================] - 1s 2ms/step - loss: 0.6290 - accuracy: 0.7924\n",
            "225/225 [==============================] - 1s 2ms/step - loss: 0.6348 - accuracy: 0.8019\n",
            "225/225 [==============================] - 1s 2ms/step - loss: 0.6345 - accuracy: 0.7922\n",
            "225/225 [==============================] - 1s 2ms/step - loss: 0.6337 - accuracy: 0.7874\n",
            "225/225 [==============================] - 1s 2ms/step - loss: 0.6311 - accuracy: 0.7802\n",
            "225/225 [==============================] - 1s 2ms/step - loss: 0.6290 - accuracy: 0.7894\n",
            "225/225 [==============================] - 1s 2ms/step - loss: 0.6331 - accuracy: 0.7852\n",
            "225/225 [==============================] - 1s 2ms/step - loss: 0.6290 - accuracy: 0.7837\n",
            "225/225 [==============================] - 1s 2ms/step - loss: 0.6371 - accuracy: 0.7953\n",
            "225/225 [==============================] - 1s 2ms/step - loss: 0.6303 - accuracy: 0.7921\n",
            "225/225 [==============================] - 1s 2ms/step - loss: 0.6362 - accuracy: 0.7909\n",
            "225/225 [==============================] - 1s 2ms/step - loss: 0.6367 - accuracy: 0.7933\n",
            "225/225 [==============================] - 1s 2ms/step - loss: 0.6334 - accuracy: 0.8035\n",
            "225/225 [==============================] - 1s 2ms/step - loss: 0.6341 - accuracy: 0.7830\n",
            "225/225 [==============================] - 1s 2ms/step - loss: 0.6340 - accuracy: 0.7842\n",
            "225/225 [==============================] - 1s 2ms/step - loss: 0.6359 - accuracy: 0.7892\n",
            "225/225 [==============================] - 1s 2ms/step - loss: 0.6292 - accuracy: 0.7924\n",
            "225/225 [==============================] - 1s 2ms/step - loss: 0.6383 - accuracy: 0.7951\n",
            "225/225 [==============================] - 1s 2ms/step - loss: 0.6297 - accuracy: 0.7897\n",
            "225/225 [==============================] - 1s 2ms/step - loss: 0.6269 - accuracy: 0.7959\n",
            "225/225 [==============================] - 1s 2ms/step - loss: 0.6302 - accuracy: 0.7894\n",
            "225/225 [==============================] - 1s 2ms/step - loss: 0.6326 - accuracy: 0.7922\n",
            "225/225 [==============================] - 1s 2ms/step - loss: 0.6295 - accuracy: 0.8087\n",
            "225/225 [==============================] - 1s 2ms/step - loss: 0.6309 - accuracy: 0.7936\n",
            "225/225 [==============================] - 1s 2ms/step - loss: 0.6244 - accuracy: 0.7891\n",
            "225/225 [==============================] - 1s 2ms/step - loss: 0.6244 - accuracy: 0.7976\n",
            "225/225 [==============================] - 1s 2ms/step - loss: 0.6363 - accuracy: 0.7899\n",
            "225/225 [==============================] - 1s 2ms/step - loss: 0.6327 - accuracy: 0.7879\n",
            "225/225 [==============================] - 1s 2ms/step - loss: 0.6295 - accuracy: 0.7864\n",
            "320/320 [==============================] - 1s 2ms/step - loss: 0.6063 - accuracy: 0.8012\n"
          ],
          "name": "stdout"
        }
      ]
    },
    {
      "cell_type": "code",
      "metadata": {
        "id": "Znkl5RBE-XND",
        "outputId": "c29bb0dc-dafd-4af6-fceb-cf76bfa51fd5",
        "colab": {
          "base_uri": "https://localhost:8080/"
        }
      },
      "source": [
        "print(best_parameters)\n",
        "print(best_accuracy)"
      ],
      "execution_count": 33,
      "outputs": [
        {
          "output_type": "stream",
          "text": [
            "{'batch_size': 25, 'nb_epoch': 500, 'optimizer': 'rmsprop'}\n",
            "0.8106249999999999\n"
          ],
          "name": "stdout"
        }
      ]
    }
  ]
}